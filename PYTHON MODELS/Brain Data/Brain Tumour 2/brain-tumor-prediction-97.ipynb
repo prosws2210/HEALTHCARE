{
 "cells": [
  {
   "cell_type": "code",
   "execution_count": 2,
   "id": "a11abc33",
   "metadata": {
    "_cell_guid": "b1076dfc-b9ad-4769-8c92-a6c4dae69d19",
    "_uuid": "8f2839f25d086af736a60e9eeb907d3b93b6e0e5",
    "execution": {
     "iopub.execute_input": "2023-07-18T08:30:38.631586Z",
     "iopub.status.busy": "2023-07-18T08:30:38.630662Z",
     "iopub.status.idle": "2023-07-18T08:30:46.302857Z",
     "shell.execute_reply": "2023-07-18T08:30:46.301814Z",
     "shell.execute_reply.started": "2023-07-18T07:52:06.636251Z"
    },
    "papermill": {
     "duration": 7.715194,
     "end_time": "2023-07-18T08:30:46.303041",
     "exception": false,
     "start_time": "2023-07-18T08:30:38.587847",
     "status": "completed"
    },
    "tags": []
   },
   "outputs": [
    {
     "name": "stdout",
     "output_type": "stream",
     "text": [
      "WARNING:tensorflow:From c:\\Users\\HP\\anaconda3\\lib\\site-packages\\keras\\src\\losses.py:2976: The name tf.losses.sparse_softmax_cross_entropy is deprecated. Please use tf.compat.v1.losses.sparse_softmax_cross_entropy instead.\n",
      "\n"
     ]
    },
    {
     "ename": "ModuleNotFoundError",
     "evalue": "No module named 'resource'",
     "output_type": "error",
     "traceback": [
      "\u001b[1;31m---------------------------------------------------------------------------\u001b[0m",
      "\u001b[1;31mModuleNotFoundError\u001b[0m                       Traceback (most recent call last)",
      "Cell \u001b[1;32mIn[2], line 12\u001b[0m\n\u001b[0;32m      9\u001b[0m \u001b[38;5;66;03m# import resource\u001b[39;00m\n\u001b[0;32m     11\u001b[0m \u001b[38;5;28;01mimport\u001b[39;00m \u001b[38;5;21;01mtensorflow\u001b[39;00m \u001b[38;5;28;01mas\u001b[39;00m \u001b[38;5;21;01mtf\u001b[39;00m\n\u001b[1;32m---> 12\u001b[0m \u001b[38;5;28;01mimport\u001b[39;00m \u001b[38;5;21;01mtensorflow_datasets\u001b[39;00m \u001b[38;5;28;01mas\u001b[39;00m \u001b[38;5;21;01mtfds\u001b[39;00m\n\u001b[0;32m     14\u001b[0m \u001b[38;5;28;01mfrom\u001b[39;00m \u001b[38;5;21;01msklearn\u001b[39;00m\u001b[38;5;21;01m.\u001b[39;00m\u001b[38;5;21;01mmetrics\u001b[39;00m \u001b[38;5;28;01mimport\u001b[39;00m ConfusionMatrixDisplay\n\u001b[0;32m     16\u001b[0m \u001b[38;5;28;01mimport\u001b[39;00m \u001b[38;5;21;01mmatplotlib\u001b[39;00m\u001b[38;5;21;01m.\u001b[39;00m\u001b[38;5;21;01mpyplot\u001b[39;00m \u001b[38;5;28;01mas\u001b[39;00m \u001b[38;5;21;01mplt\u001b[39;00m\n",
      "File \u001b[1;32mc:\\Users\\HP\\anaconda3\\lib\\site-packages\\tensorflow_datasets\\__init__.py:43\u001b[0m\n\u001b[0;32m     41\u001b[0m _TIMESTAMP_IMPORT_STARTS \u001b[38;5;241m=\u001b[39m time\u001b[38;5;241m.\u001b[39mtime()\n\u001b[0;32m     42\u001b[0m \u001b[38;5;28;01mfrom\u001b[39;00m \u001b[38;5;21;01mabsl\u001b[39;00m \u001b[38;5;28;01mimport\u001b[39;00m logging\n\u001b[1;32m---> 43\u001b[0m \u001b[38;5;28;01mimport\u001b[39;00m \u001b[38;5;21;01mtensorflow_datasets\u001b[39;00m\u001b[38;5;21;01m.\u001b[39;00m\u001b[38;5;21;01mcore\u001b[39;00m\u001b[38;5;21;01m.\u001b[39;00m\u001b[38;5;21;01mlogging\u001b[39;00m \u001b[38;5;28;01mas\u001b[39;00m \u001b[38;5;21;01m_tfds_logging\u001b[39;00m\n\u001b[0;32m     44\u001b[0m \u001b[38;5;28;01mfrom\u001b[39;00m \u001b[38;5;21;01mtensorflow_datasets\u001b[39;00m\u001b[38;5;21;01m.\u001b[39;00m\u001b[38;5;21;01mcore\u001b[39;00m\u001b[38;5;21;01m.\u001b[39;00m\u001b[38;5;21;01mlogging\u001b[39;00m \u001b[38;5;28;01mimport\u001b[39;00m call_metadata \u001b[38;5;28;01mas\u001b[39;00m _call_metadata\n\u001b[0;32m     46\u001b[0m _metadata \u001b[38;5;241m=\u001b[39m _call_metadata\u001b[38;5;241m.\u001b[39mCallMetadata()\n",
      "File \u001b[1;32mc:\\Users\\HP\\anaconda3\\lib\\site-packages\\tensorflow_datasets\\core\\__init__.py:22\u001b[0m\n\u001b[0;32m     18\u001b[0m \u001b[38;5;66;03m# Allow to use `tfds.core.Path` in dataset implementation which seems more\u001b[39;00m\n\u001b[0;32m     19\u001b[0m \u001b[38;5;66;03m# natural than having to import a third party module.\u001b[39;00m\n\u001b[0;32m     20\u001b[0m \u001b[38;5;28;01mfrom\u001b[39;00m \u001b[38;5;21;01metils\u001b[39;00m\u001b[38;5;21;01m.\u001b[39;00m\u001b[38;5;21;01mepath\u001b[39;00m \u001b[38;5;28;01mimport\u001b[39;00m Path\n\u001b[1;32m---> 22\u001b[0m \u001b[38;5;28;01mfrom\u001b[39;00m \u001b[38;5;21;01mtensorflow_datasets\u001b[39;00m\u001b[38;5;21;01m.\u001b[39;00m\u001b[38;5;21;01mcore\u001b[39;00m \u001b[38;5;28;01mimport\u001b[39;00m community\n\u001b[0;32m     23\u001b[0m \u001b[38;5;28;01mfrom\u001b[39;00m \u001b[38;5;21;01mtensorflow_datasets\u001b[39;00m\u001b[38;5;21;01m.\u001b[39;00m\u001b[38;5;21;01mcore\u001b[39;00m\u001b[38;5;21;01m.\u001b[39;00m\u001b[38;5;21;01mdataset_builder\u001b[39;00m \u001b[38;5;28;01mimport\u001b[39;00m BeamBasedBuilder\n\u001b[0;32m     24\u001b[0m \u001b[38;5;28;01mfrom\u001b[39;00m \u001b[38;5;21;01mtensorflow_datasets\u001b[39;00m\u001b[38;5;21;01m.\u001b[39;00m\u001b[38;5;21;01mcore\u001b[39;00m\u001b[38;5;21;01m.\u001b[39;00m\u001b[38;5;21;01mdataset_builder\u001b[39;00m \u001b[38;5;28;01mimport\u001b[39;00m BuilderConfig\n",
      "File \u001b[1;32mc:\\Users\\HP\\anaconda3\\lib\\site-packages\\tensorflow_datasets\\core\\community\\__init__.py:18\u001b[0m\n\u001b[0;32m      1\u001b[0m \u001b[38;5;66;03m# coding=utf-8\u001b[39;00m\n\u001b[0;32m      2\u001b[0m \u001b[38;5;66;03m# Copyright 2023 The TensorFlow Datasets Authors.\u001b[39;00m\n\u001b[0;32m      3\u001b[0m \u001b[38;5;66;03m#\u001b[39;00m\n\u001b[1;32m   (...)\u001b[0m\n\u001b[0;32m     13\u001b[0m \u001b[38;5;66;03m# See the License for the specific language governing permissions and\u001b[39;00m\n\u001b[0;32m     14\u001b[0m \u001b[38;5;66;03m# limitations under the License.\u001b[39;00m\n\u001b[0;32m     16\u001b[0m \u001b[38;5;124;03m\"\"\"Community dataset API.\"\"\"\u001b[39;00m\n\u001b[1;32m---> 18\u001b[0m \u001b[38;5;28;01mfrom\u001b[39;00m \u001b[38;5;21;01mtensorflow_datasets\u001b[39;00m\u001b[38;5;21;01m.\u001b[39;00m\u001b[38;5;21;01mcore\u001b[39;00m\u001b[38;5;21;01m.\u001b[39;00m\u001b[38;5;21;01mcommunity\u001b[39;00m\u001b[38;5;21;01m.\u001b[39;00m\u001b[38;5;21;01mhuggingface_wrapper\u001b[39;00m \u001b[38;5;28;01mimport\u001b[39;00m mock_builtin_to_use_gfile\n\u001b[0;32m     19\u001b[0m \u001b[38;5;28;01mfrom\u001b[39;00m \u001b[38;5;21;01mtensorflow_datasets\u001b[39;00m\u001b[38;5;21;01m.\u001b[39;00m\u001b[38;5;21;01mcore\u001b[39;00m\u001b[38;5;21;01m.\u001b[39;00m\u001b[38;5;21;01mcommunity\u001b[39;00m\u001b[38;5;21;01m.\u001b[39;00m\u001b[38;5;21;01mhuggingface_wrapper\u001b[39;00m \u001b[38;5;28;01mimport\u001b[39;00m mock_huggingface_import\n\u001b[0;32m     20\u001b[0m \u001b[38;5;28;01mfrom\u001b[39;00m \u001b[38;5;21;01mtensorflow_datasets\u001b[39;00m\u001b[38;5;21;01m.\u001b[39;00m\u001b[38;5;21;01mcore\u001b[39;00m\u001b[38;5;21;01m.\u001b[39;00m\u001b[38;5;21;01mcommunity\u001b[39;00m\u001b[38;5;21;01m.\u001b[39;00m\u001b[38;5;21;01mload\u001b[39;00m \u001b[38;5;28;01mimport\u001b[39;00m builder_cls_from_module\n",
      "File \u001b[1;32mc:\\Users\\HP\\anaconda3\\lib\\site-packages\\tensorflow_datasets\\core\\community\\huggingface_wrapper.py:31\u001b[0m\n\u001b[0;32m     28\u001b[0m \u001b[38;5;28;01mfrom\u001b[39;00m \u001b[38;5;21;01munittest\u001b[39;00m \u001b[38;5;28;01mimport\u001b[39;00m mock\n\u001b[0;32m     30\u001b[0m \u001b[38;5;28;01mfrom\u001b[39;00m \u001b[38;5;21;01metils\u001b[39;00m \u001b[38;5;28;01mimport\u001b[39;00m epath\n\u001b[1;32m---> 31\u001b[0m \u001b[38;5;28;01mfrom\u001b[39;00m \u001b[38;5;21;01mtensorflow_datasets\u001b[39;00m\u001b[38;5;21;01m.\u001b[39;00m\u001b[38;5;21;01mcore\u001b[39;00m \u001b[38;5;28;01mimport\u001b[39;00m dataset_builder\n\u001b[0;32m     32\u001b[0m \u001b[38;5;28;01mfrom\u001b[39;00m \u001b[38;5;21;01mtensorflow_datasets\u001b[39;00m\u001b[38;5;21;01m.\u001b[39;00m\u001b[38;5;21;01mcore\u001b[39;00m \u001b[38;5;28;01mimport\u001b[39;00m dataset_info\n\u001b[0;32m     33\u001b[0m \u001b[38;5;28;01mfrom\u001b[39;00m \u001b[38;5;21;01mtensorflow_datasets\u001b[39;00m\u001b[38;5;21;01m.\u001b[39;00m\u001b[38;5;21;01mcore\u001b[39;00m \u001b[38;5;28;01mimport\u001b[39;00m download\n",
      "File \u001b[1;32mc:\\Users\\HP\\anaconda3\\lib\\site-packages\\tensorflow_datasets\\core\\dataset_builder.py:44\u001b[0m\n\u001b[0;32m     42\u001b[0m \u001b[38;5;28;01mfrom\u001b[39;00m \u001b[38;5;21;01mtensorflow_datasets\u001b[39;00m\u001b[38;5;21;01m.\u001b[39;00m\u001b[38;5;21;01mcore\u001b[39;00m \u001b[38;5;28;01mimport\u001b[39;00m reader \u001b[38;5;28;01mas\u001b[39;00m reader_lib\n\u001b[0;32m     43\u001b[0m \u001b[38;5;28;01mfrom\u001b[39;00m \u001b[38;5;21;01mtensorflow_datasets\u001b[39;00m\u001b[38;5;21;01m.\u001b[39;00m\u001b[38;5;21;01mcore\u001b[39;00m \u001b[38;5;28;01mimport\u001b[39;00m registered\n\u001b[1;32m---> 44\u001b[0m \u001b[38;5;28;01mfrom\u001b[39;00m \u001b[38;5;21;01mtensorflow_datasets\u001b[39;00m\u001b[38;5;21;01m.\u001b[39;00m\u001b[38;5;21;01mcore\u001b[39;00m \u001b[38;5;28;01mimport\u001b[39;00m split_builder \u001b[38;5;28;01mas\u001b[39;00m split_builder_lib\n\u001b[0;32m     45\u001b[0m \u001b[38;5;28;01mfrom\u001b[39;00m \u001b[38;5;21;01mtensorflow_datasets\u001b[39;00m\u001b[38;5;21;01m.\u001b[39;00m\u001b[38;5;21;01mcore\u001b[39;00m \u001b[38;5;28;01mimport\u001b[39;00m splits \u001b[38;5;28;01mas\u001b[39;00m splits_lib\n\u001b[0;32m     46\u001b[0m \u001b[38;5;28;01mfrom\u001b[39;00m \u001b[38;5;21;01mtensorflow_datasets\u001b[39;00m\u001b[38;5;21;01m.\u001b[39;00m\u001b[38;5;21;01mcore\u001b[39;00m \u001b[38;5;28;01mimport\u001b[39;00m tf_compat\n",
      "File \u001b[1;32mc:\\Users\\HP\\anaconda3\\lib\\site-packages\\tensorflow_datasets\\core\\split_builder.py:37\u001b[0m\n\u001b[0;32m     35\u001b[0m \u001b[38;5;28;01mfrom\u001b[39;00m \u001b[38;5;21;01mtensorflow_datasets\u001b[39;00m\u001b[38;5;21;01m.\u001b[39;00m\u001b[38;5;21;01mcore\u001b[39;00m \u001b[38;5;28;01mimport\u001b[39;00m splits \u001b[38;5;28;01mas\u001b[39;00m splits_lib\n\u001b[0;32m     36\u001b[0m \u001b[38;5;28;01mfrom\u001b[39;00m \u001b[38;5;21;01mtensorflow_datasets\u001b[39;00m\u001b[38;5;21;01m.\u001b[39;00m\u001b[38;5;21;01mcore\u001b[39;00m \u001b[38;5;28;01mimport\u001b[39;00m utils\n\u001b[1;32m---> 37\u001b[0m \u001b[38;5;28;01mfrom\u001b[39;00m \u001b[38;5;21;01mtensorflow_datasets\u001b[39;00m\u001b[38;5;21;01m.\u001b[39;00m\u001b[38;5;21;01mcore\u001b[39;00m \u001b[38;5;28;01mimport\u001b[39;00m writer \u001b[38;5;28;01mas\u001b[39;00m writer_lib\n\u001b[0;32m     38\u001b[0m \u001b[38;5;28;01mfrom\u001b[39;00m \u001b[38;5;21;01mtensorflow_datasets\u001b[39;00m\u001b[38;5;21;01m.\u001b[39;00m\u001b[38;5;21;01mcore\u001b[39;00m\u001b[38;5;21;01m.\u001b[39;00m\u001b[38;5;21;01mutils\u001b[39;00m \u001b[38;5;28;01mimport\u001b[39;00m shard_utils\n\u001b[0;32m     40\u001b[0m \u001b[38;5;28;01mif\u001b[39;00m typing\u001b[38;5;241m.\u001b[39mTYPE_CHECKING:\n",
      "File \u001b[1;32mc:\\Users\\HP\\anaconda3\\lib\\site-packages\\tensorflow_datasets\\core\\writer.py:33\u001b[0m\n\u001b[0;32m     31\u001b[0m \u001b[38;5;28;01mfrom\u001b[39;00m \u001b[38;5;21;01mtensorflow_datasets\u001b[39;00m\u001b[38;5;21;01m.\u001b[39;00m\u001b[38;5;21;01mcore\u001b[39;00m \u001b[38;5;28;01mimport\u001b[39;00m lazy_imports_lib\n\u001b[0;32m     32\u001b[0m \u001b[38;5;28;01mfrom\u001b[39;00m \u001b[38;5;21;01mtensorflow_datasets\u001b[39;00m\u001b[38;5;21;01m.\u001b[39;00m\u001b[38;5;21;01mcore\u001b[39;00m \u001b[38;5;28;01mimport\u001b[39;00m naming\n\u001b[1;32m---> 33\u001b[0m \u001b[38;5;28;01mfrom\u001b[39;00m \u001b[38;5;21;01mtensorflow_datasets\u001b[39;00m\u001b[38;5;21;01m.\u001b[39;00m\u001b[38;5;21;01mcore\u001b[39;00m \u001b[38;5;28;01mimport\u001b[39;00m shuffle\n\u001b[0;32m     34\u001b[0m \u001b[38;5;28;01mfrom\u001b[39;00m \u001b[38;5;21;01mtensorflow_datasets\u001b[39;00m\u001b[38;5;21;01m.\u001b[39;00m\u001b[38;5;21;01mcore\u001b[39;00m \u001b[38;5;28;01mimport\u001b[39;00m utils\n\u001b[0;32m     35\u001b[0m \u001b[38;5;28;01mfrom\u001b[39;00m \u001b[38;5;21;01mtensorflow_datasets\u001b[39;00m\u001b[38;5;21;01m.\u001b[39;00m\u001b[38;5;21;01mcore\u001b[39;00m\u001b[38;5;21;01m.\u001b[39;00m\u001b[38;5;21;01mutils\u001b[39;00m \u001b[38;5;28;01mimport\u001b[39;00m file_utils\n",
      "File \u001b[1;32mc:\\Users\\HP\\anaconda3\\lib\\site-packages\\tensorflow_datasets\\core\\shuffle.py:20\u001b[0m\n\u001b[0;32m     18\u001b[0m \u001b[38;5;28;01mimport\u001b[39;00m \u001b[38;5;21;01mmath\u001b[39;00m\n\u001b[0;32m     19\u001b[0m \u001b[38;5;28;01mimport\u001b[39;00m \u001b[38;5;21;01mos\u001b[39;00m\n\u001b[1;32m---> 20\u001b[0m \u001b[38;5;28;01mimport\u001b[39;00m \u001b[38;5;21;01mresource\u001b[39;00m\n\u001b[0;32m     21\u001b[0m \u001b[38;5;28;01mimport\u001b[39;00m \u001b[38;5;21;01mstruct\u001b[39;00m\n\u001b[0;32m     22\u001b[0m \u001b[38;5;28;01mfrom\u001b[39;00m \u001b[38;5;21;01mtyping\u001b[39;00m \u001b[38;5;28;01mimport\u001b[39;00m Iterator, List, Optional\n",
      "\u001b[1;31mModuleNotFoundError\u001b[0m: No module named 'resource'"
     ]
    }
   ],
   "source": [
    "import pandas as pd\n",
    "import numpy as np\n",
    "import os\n",
    "import glob\n",
    "\n",
    "import PIL\n",
    "from PIL import Image\n",
    "import imageio\n",
    "# import resource\n",
    "\n",
    "import tensorflow as tf\n",
    "import tensorflow_datasets as tfds\n",
    "\n",
    "from sklearn.metrics import ConfusionMatrixDisplay\n",
    "\n",
    "import matplotlib.pyplot as plt\n",
    "\n",
    "import seaborn as sn\n",
    "import numpy as np\n",
    "import pathlib"
   ]
  },
  {
   "cell_type": "code",
   "execution_count": null,
   "id": "68dcf1ec",
   "metadata": {
    "execution": {
     "iopub.execute_input": "2023-07-18T08:30:46.374544Z",
     "iopub.status.busy": "2023-07-18T08:30:46.373852Z",
     "iopub.status.idle": "2023-07-18T08:30:47.439447Z",
     "shell.execute_reply": "2023-07-18T08:30:47.438835Z",
     "shell.execute_reply.started": "2023-07-18T07:52:12.922467Z"
    },
    "papermill": {
     "duration": 1.103117,
     "end_time": "2023-07-18T08:30:47.439609",
     "exception": false,
     "start_time": "2023-07-18T08:30:46.336492",
     "status": "completed"
    },
    "tags": []
   },
   "outputs": [],
   "source": [
    "train_dir = pathlib.Path(r'C:\\Users\\HP\\Documents\\GitHub\\Project-Sem4\\Python Models\\Brain Data\\Brain_tumor_dataset_2\\Br35H-Mask-RCNN\\TRAIN')\n",
    "test_dir = pathlib.Path(r'C:\\Users\\HP\\Documents\\GitHub\\Project-Sem4\\Python Models\\Brain Data\\Brain_tumor_dataset_2\\Br35H-Mask-RCNN\\TEST')\n",
    "\n",
    "image_count_train = len(list(train_dir.glob('*/*.jpg')))\n",
    "image_count_test = len(list(test_dir.glob('*/*.jpg')))\n",
    "print(\"Train Image Count: {} \\n Test Image Count: {}\".format(image_count_train,image_count_test))"
   ]
  },
  {
   "cell_type": "markdown",
   "id": "b84d4a65",
   "metadata": {
    "papermill": {
     "duration": 0.032793,
     "end_time": "2023-07-18T08:30:47.506082",
     "exception": false,
     "start_time": "2023-07-18T08:30:47.473289",
     "status": "completed"
    },
    "tags": []
   },
   "source": [
    "## Create DataSet"
   ]
  },
  {
   "cell_type": "code",
   "execution_count": null,
   "id": "81011cb2",
   "metadata": {
    "execution": {
     "iopub.execute_input": "2023-07-18T08:30:47.580173Z",
     "iopub.status.busy": "2023-07-18T08:30:47.579451Z",
     "iopub.status.idle": "2023-07-18T08:30:47.584350Z",
     "shell.execute_reply": "2023-07-18T08:30:47.583809Z",
     "shell.execute_reply.started": "2023-07-18T07:52:13.403561Z"
    },
    "papermill": {
     "duration": 0.044015,
     "end_time": "2023-07-18T08:30:47.584492",
     "exception": false,
     "start_time": "2023-07-18T08:30:47.540477",
     "status": "completed"
    },
    "tags": []
   },
   "outputs": [],
   "source": [
    "batch_size = 32\n",
    "img_height = 180\n",
    "img_width = 180"
   ]
  },
  {
   "cell_type": "code",
   "execution_count": null,
   "id": "edbc18c9",
   "metadata": {
    "execution": {
     "iopub.execute_input": "2023-07-18T08:30:47.658809Z",
     "iopub.status.busy": "2023-07-18T08:30:47.657909Z",
     "iopub.status.idle": "2023-07-18T08:30:50.998680Z",
     "shell.execute_reply": "2023-07-18T08:30:50.998005Z",
     "shell.execute_reply.started": "2023-07-18T07:52:13.413653Z"
    },
    "papermill": {
     "duration": 3.379169,
     "end_time": "2023-07-18T08:30:50.998851",
     "exception": false,
     "start_time": "2023-07-18T08:30:47.619682",
     "status": "completed"
    },
    "tags": []
   },
   "outputs": [],
   "source": [
    "train_ds = tf.keras.preprocessing.image_dataset_from_directory(\n",
    "    train_dir,\n",
    "    validation_split=None,\n",
    "    seed=123,\n",
    "    image_size=(img_height, img_width),\n",
    "    batch_size=batch_size)"
   ]
  },
  {
   "cell_type": "code",
   "execution_count": null,
   "id": "1deea15c",
   "metadata": {
    "execution": {
     "iopub.execute_input": "2023-07-18T08:30:51.071067Z",
     "iopub.status.busy": "2023-07-18T08:30:51.070425Z",
     "iopub.status.idle": "2023-07-18T08:30:51.194430Z",
     "shell.execute_reply": "2023-07-18T08:30:51.193807Z",
     "shell.execute_reply.started": "2023-07-18T07:52:16.239276Z"
    },
    "papermill": {
     "duration": 0.160745,
     "end_time": "2023-07-18T08:30:51.194602",
     "exception": false,
     "start_time": "2023-07-18T08:30:51.033857",
     "status": "completed"
    },
    "tags": []
   },
   "outputs": [],
   "source": [
    "val_ds = tf.keras.preprocessing.image_dataset_from_directory(\n",
    "  test_dir,\n",
    "  validation_split=None,\n",
    "  seed=123,\n",
    "  image_size=(img_height, img_width),\n",
    "  batch_size=batch_size)"
   ]
  },
  {
   "cell_type": "code",
   "execution_count": null,
   "id": "a7c356b1",
   "metadata": {
    "execution": {
     "iopub.execute_input": "2023-07-18T08:30:51.267635Z",
     "iopub.status.busy": "2023-07-18T08:30:51.266860Z",
     "iopub.status.idle": "2023-07-18T08:30:51.270593Z",
     "shell.execute_reply": "2023-07-18T08:30:51.271084Z",
     "shell.execute_reply.started": "2023-07-18T07:52:16.366865Z"
    },
    "papermill": {
     "duration": 0.041821,
     "end_time": "2023-07-18T08:30:51.271253",
     "exception": false,
     "start_time": "2023-07-18T08:30:51.229432",
     "status": "completed"
    },
    "tags": []
   },
   "outputs": [],
   "source": [
    "class_names = train_ds.class_names\n",
    "print(class_names)"
   ]
  },
  {
   "cell_type": "code",
   "execution_count": null,
   "id": "e5d03c9f",
   "metadata": {
    "execution": {
     "iopub.execute_input": "2023-07-18T08:30:51.344438Z",
     "iopub.status.busy": "2023-07-18T08:30:51.343479Z",
     "iopub.status.idle": "2023-07-18T08:30:53.640375Z",
     "shell.execute_reply": "2023-07-18T08:30:53.638982Z",
     "shell.execute_reply.started": "2023-07-18T07:52:16.373353Z"
    },
    "papermill": {
     "duration": 2.336551,
     "end_time": "2023-07-18T08:30:53.640553",
     "exception": false,
     "start_time": "2023-07-18T08:30:51.304002",
     "status": "completed"
    },
    "tags": []
   },
   "outputs": [],
   "source": [
    "normalization_layer = tf.keras.layers.experimental.preprocessing.Rescaling(1./255)\n",
    "\n",
    "normalized_ds = train_ds.map(lambda x, y: (normalization_layer(x), y))\n",
    "image_batch, labels_batch = next(iter(normalized_ds))"
   ]
  },
  {
   "cell_type": "code",
   "execution_count": null,
   "id": "279b421b",
   "metadata": {
    "execution": {
     "iopub.execute_input": "2023-07-18T08:30:53.718451Z",
     "iopub.status.busy": "2023-07-18T08:30:53.717401Z",
     "iopub.status.idle": "2023-07-18T08:30:53.722831Z",
     "shell.execute_reply": "2023-07-18T08:30:53.723430Z",
     "shell.execute_reply.started": "2023-07-18T07:52:17.612787Z"
    },
    "papermill": {
     "duration": 0.047279,
     "end_time": "2023-07-18T08:30:53.723607",
     "exception": false,
     "start_time": "2023-07-18T08:30:53.676328",
     "status": "completed"
    },
    "tags": []
   },
   "outputs": [],
   "source": [
    "AUTOTUNE = tf.data.AUTOTUNE\n",
    "\n",
    "train_ds = train_ds.cache().prefetch(buffer_size=AUTOTUNE)\n",
    "val_ds = val_ds.cache().prefetch(buffer_size=AUTOTUNE)"
   ]
  },
  {
   "cell_type": "markdown",
   "id": "244332ae",
   "metadata": {
    "papermill": {
     "duration": 0.032999,
     "end_time": "2023-07-18T08:30:53.793554",
     "exception": false,
     "start_time": "2023-07-18T08:30:53.760555",
     "status": "completed"
    },
    "tags": []
   },
   "source": [
    "## Model Building"
   ]
  },
  {
   "cell_type": "code",
   "execution_count": null,
   "id": "3b85f63f",
   "metadata": {
    "execution": {
     "iopub.execute_input": "2023-07-18T08:30:53.889900Z",
     "iopub.status.busy": "2023-07-18T08:30:53.889208Z",
     "iopub.status.idle": "2023-07-18T08:31:39.927768Z",
     "shell.execute_reply": "2023-07-18T08:31:39.927187Z",
     "shell.execute_reply.started": "2023-07-18T07:52:17.623387Z"
    },
    "papermill": {
     "duration": 46.098489,
     "end_time": "2023-07-18T08:31:39.927927",
     "exception": false,
     "start_time": "2023-07-18T08:30:53.829438",
     "status": "completed"
    },
    "tags": []
   },
   "outputs": [],
   "source": [
    "num_classes = 2\n",
    "\n",
    "model = tf.keras.Sequential([\n",
    "  tf.keras.layers.experimental.preprocessing.Rescaling(1./255),\n",
    "  tf.keras.layers.Conv2D(32, 3, activation='relu'),\n",
    "  tf.keras.layers.MaxPooling2D(),\n",
    "  tf.keras.layers.Conv2D(32, 3, activation='relu'),\n",
    "  tf.keras.layers.MaxPooling2D(),\n",
    "  tf.keras.layers.Conv2D(32, 3, activation='relu'),\n",
    "  tf.keras.layers.MaxPooling2D(),\n",
    "  tf.keras.layers.Flatten(),\n",
    "  tf.keras.layers.Dense(255, activation='relu'),\n",
    "  tf.keras.layers.Dense(num_classes)\n",
    "])\n",
    "\n",
    "model.compile(\n",
    "  optimizer='adam',\n",
    "  loss=tf.losses.SparseCategoricalCrossentropy(from_logits=True),\n",
    "  metrics=['accuracy'])\n",
    "\n",
    "hist = model.fit(\n",
    "  train_ds,\n",
    "  validation_data=val_ds,\n",
    "  epochs=8\n",
    ")"
   ]
  },
  {
   "cell_type": "markdown",
   "id": "d7498f2c",
   "metadata": {
    "papermill": {
     "duration": 0.115819,
     "end_time": "2023-07-18T08:31:40.169103",
     "exception": false,
     "start_time": "2023-07-18T08:31:40.053284",
     "status": "completed"
    },
    "tags": []
   },
   "source": [
    "## Model Summary"
   ]
  },
  {
   "cell_type": "code",
   "execution_count": null,
   "id": "7d97c899",
   "metadata": {
    "execution": {
     "iopub.execute_input": "2023-07-18T08:31:40.408247Z",
     "iopub.status.busy": "2023-07-18T08:31:40.406090Z",
     "iopub.status.idle": "2023-07-18T08:31:40.414972Z",
     "shell.execute_reply": "2023-07-18T08:31:40.415532Z",
     "shell.execute_reply.started": "2023-07-18T07:52:51.103244Z"
    },
    "papermill": {
     "duration": 0.13013,
     "end_time": "2023-07-18T08:31:40.415718",
     "exception": false,
     "start_time": "2023-07-18T08:31:40.285588",
     "status": "completed"
    },
    "tags": []
   },
   "outputs": [],
   "source": [
    "model.summary()"
   ]
  },
  {
   "cell_type": "code",
   "execution_count": null,
   "id": "1ea490cd",
   "metadata": {
    "execution": {
     "iopub.execute_input": "2023-07-18T08:31:40.652062Z",
     "iopub.status.busy": "2023-07-18T08:31:40.650738Z",
     "iopub.status.idle": "2023-07-18T08:31:41.457306Z",
     "shell.execute_reply": "2023-07-18T08:31:41.456505Z",
     "shell.execute_reply.started": "2023-07-18T07:52:51.120073Z"
    },
    "papermill": {
     "duration": 0.927238,
     "end_time": "2023-07-18T08:31:41.457456",
     "exception": false,
     "start_time": "2023-07-18T08:31:40.530218",
     "status": "completed"
    },
    "tags": []
   },
   "outputs": [],
   "source": [
    "tf.keras.utils.plot_model(model,\n",
    "                          show_shapes=True,\n",
    "                          expand_nested=True)"
   ]
  },
  {
   "cell_type": "markdown",
   "id": "35626963",
   "metadata": {
    "papermill": {
     "duration": 0.122165,
     "end_time": "2023-07-18T08:31:41.699657",
     "exception": false,
     "start_time": "2023-07-18T08:31:41.577492",
     "status": "completed"
    },
    "tags": []
   },
   "source": [
    "## Fit, Evaluate Model"
   ]
  },
  {
   "cell_type": "markdown",
   "id": "0d0114ee",
   "metadata": {
    "papermill": {
     "duration": 0.120309,
     "end_time": "2023-07-18T08:31:41.942121",
     "exception": false,
     "start_time": "2023-07-18T08:31:41.821812",
     "status": "completed"
    },
    "tags": []
   },
   "source": [
    "### Visualize Results"
   ]
  },
  {
   "cell_type": "code",
   "execution_count": null,
   "id": "756b52ba",
   "metadata": {
    "execution": {
     "iopub.execute_input": "2023-07-18T08:31:42.196278Z",
     "iopub.status.busy": "2023-07-18T08:31:42.195245Z",
     "iopub.status.idle": "2023-07-18T08:31:42.197907Z",
     "shell.execute_reply": "2023-07-18T08:31:42.198424Z",
     "shell.execute_reply.started": "2023-07-18T07:52:51.754940Z"
    },
    "papermill": {
     "duration": 0.133013,
     "end_time": "2023-07-18T08:31:42.198608",
     "exception": false,
     "start_time": "2023-07-18T08:31:42.065595",
     "status": "completed"
    },
    "tags": []
   },
   "outputs": [],
   "source": [
    "def plot_metrics(history):\n",
    "  metrics = ['loss', 'accuracy']\n",
    "  for n, metric in enumerate(metrics):\n",
    "    try:\n",
    "      name = metric.replace(\"_\",\" \").capitalize()\n",
    "      plt.plot(history.epoch, history.history[metric], label='Train')\n",
    "      plt.plot(history.epoch, history.history['val_'+metric], linestyle=\"--\", label='Val')\n",
    "      plt.xlabel('Epoch')\n",
    "      plt.ylabel(name)\n",
    "      if metric == 'loss':\n",
    "        plt.ylim([0, plt.ylim()[1]])\n",
    "      elif metric == 'auc':\n",
    "        plt.ylim([0.8,1])\n",
    "      else:\n",
    "        plt.ylim([0,1])\n",
    "      plt.legend()\n",
    "      plt.show()  \n",
    "    except:\n",
    "      pass"
   ]
  },
  {
   "cell_type": "code",
   "execution_count": null,
   "id": "15f1a8ad",
   "metadata": {
    "execution": {
     "iopub.execute_input": "2023-07-18T08:31:42.458102Z",
     "iopub.status.busy": "2023-07-18T08:31:42.456939Z",
     "iopub.status.idle": "2023-07-18T08:31:42.847947Z",
     "shell.execute_reply": "2023-07-18T08:31:42.849026Z",
     "shell.execute_reply.started": "2023-07-18T07:52:51.766579Z"
    },
    "papermill": {
     "duration": 0.531528,
     "end_time": "2023-07-18T08:31:42.849262",
     "exception": false,
     "start_time": "2023-07-18T08:31:42.317734",
     "status": "completed"
    },
    "tags": []
   },
   "outputs": [],
   "source": [
    "plot_metrics(hist)"
   ]
  },
  {
   "cell_type": "markdown",
   "id": "d1cc2dea",
   "metadata": {
    "papermill": {
     "duration": 0.129649,
     "end_time": "2023-07-18T08:31:43.100538",
     "exception": false,
     "start_time": "2023-07-18T08:31:42.970889",
     "status": "completed"
    },
    "tags": []
   },
   "source": [
    "# Model Testing on Test Data"
   ]
  },
  {
   "cell_type": "code",
   "execution_count": null,
   "id": "5cff5c17",
   "metadata": {
    "execution": {
     "iopub.execute_input": "2023-07-18T08:31:43.365240Z",
     "iopub.status.busy": "2023-07-18T08:31:43.364123Z",
     "iopub.status.idle": "2023-07-18T08:31:43.366715Z",
     "shell.execute_reply": "2023-07-18T08:31:43.367233Z",
     "shell.execute_reply.started": "2023-07-18T07:52:52.127515Z"
    },
    "papermill": {
     "duration": 0.137798,
     "end_time": "2023-07-18T08:31:43.367414",
     "exception": false,
     "start_time": "2023-07-18T08:31:43.229616",
     "status": "completed"
    },
    "tags": []
   },
   "outputs": [],
   "source": [
    "def list_files(dir,full_dir):\n",
    "    r = []\n",
    "    r1 = []\n",
    "    for root, dirs, files in os.walk(dir):\n",
    "        for name in files:\n",
    "            rr = os.path.join(root, name)\n",
    "            r.append(rr)\n",
    "    dd = {'local_path':r}\n",
    "    df = pd.DataFrame(dd)\n",
    "    return df\n",
    "\n",
    "def proccess(img1):\n",
    "  img = tf.keras.preprocessing.image.load_img(\n",
    "      img1, target_size=(img_height, img_width)\n",
    "  )\n",
    "  img_array = tf.keras.preprocessing.image.img_to_array(img)\n",
    "  img_array = tf.expand_dims(img_array, 0) # Create a batch\n",
    "\n",
    "  predictions = model.predict(img_array)\n",
    "  score = tf.nn.softmax(predictions[0])\n",
    "\n",
    "  pred = class_names[np.argmax(score)]\n",
    "  score1 = 100 * np.max(score)\n",
    "\n",
    "  return pred, score1\n",
    "\n",
    "def new_col(col):\n",
    "    if col['Pred'] == 'yes' and col['Actual'] == 'yes':\n",
    "        return 1\n",
    "    elif col['Pred'] == 'no' and col['Actual'] == 'no':\n",
    "      return 1\n",
    "    else:\n",
    "      return 0\n",
    "\n",
    "\n",
    "def proccess1(df):\n",
    "  aa = []\n",
    "  bb = []\n",
    "  cc = []\n",
    "\n",
    "  for a,b in df.iterrows():\n",
    "    img = b['local_path']\n",
    "    pred, value = proccess(img)\n",
    "    pat = b['local_path']\n",
    "    \n",
    "    val = pat.split('/')[4]\n",
    "    \n",
    "    aa.append(pred)\n",
    "    bb.append(value)\n",
    "    cc.append(val)\n",
    "  vals = {\"Pred\":aa,\"Accurarcy\":bb,'Actual':cc}\n",
    "  df_test1 = pd.DataFrame(vals)\n",
    "  df_test1 = pd.concat([df,df_test1], axis=1)\n",
    "\n",
    "  df_test1['Check'] = df_test1.apply(lambda col: new_col (col),axis=1)\n",
    "\n",
    "  return df_test1\n"
   ]
  },
  {
   "cell_type": "code",
   "execution_count": null,
   "id": "7e26dde1",
   "metadata": {
    "execution": {
     "iopub.execute_input": "2023-07-18T08:31:43.615045Z",
     "iopub.status.busy": "2023-07-18T08:31:43.614001Z",
     "iopub.status.idle": "2023-07-18T08:32:26.586744Z",
     "shell.execute_reply": "2023-07-18T08:32:26.586143Z",
     "shell.execute_reply.started": "2023-07-18T07:52:52.146451Z"
    },
    "papermill": {
     "duration": 43.099303,
     "end_time": "2023-07-18T08:32:26.586903",
     "exception": false,
     "start_time": "2023-07-18T08:31:43.487600",
     "status": "completed"
    },
    "tags": []
   },
   "outputs": [],
   "source": [
    "fullpath = '../input/brain-image-clean/test/'\n",
    "path = \"test\"\n",
    "\n",
    "df_test = list_files(fullpath, path)\n",
    "df_test1 = proccess1(df_test)"
   ]
  },
  {
   "cell_type": "code",
   "execution_count": null,
   "id": "3051634e",
   "metadata": {
    "execution": {
     "iopub.execute_input": "2023-07-18T08:32:26.856197Z",
     "iopub.status.busy": "2023-07-18T08:32:26.855199Z",
     "iopub.status.idle": "2023-07-18T08:32:26.890492Z",
     "shell.execute_reply": "2023-07-18T08:32:26.889874Z",
     "shell.execute_reply.started": "2023-07-18T07:53:29.958287Z"
    },
    "papermill": {
     "duration": 0.180464,
     "end_time": "2023-07-18T08:32:26.890682",
     "exception": false,
     "start_time": "2023-07-18T08:32:26.710218",
     "status": "completed"
    },
    "tags": []
   },
   "outputs": [],
   "source": [
    "def new_col(col):\n",
    "    if col['Pred'] == 'yes':\n",
    "        return 1\n",
    "    else:\n",
    "      return 0\n",
    "def new_col2(col):\n",
    "    if col['Actual'] == 'yes':\n",
    "        return 1\n",
    "    else:\n",
    "      return 0\n",
    "df_test1['Pred1'] = df_test1.apply(lambda col: new_col (col),axis=1)\n",
    "df_test1['Actual1'] = df_test1.apply(lambda col: new_col2 (col),axis=1)\n",
    "df_test1.head()"
   ]
  },
  {
   "cell_type": "markdown",
   "id": "8f4cff26",
   "metadata": {
    "papermill": {
     "duration": 0.122636,
     "end_time": "2023-07-18T08:32:27.137121",
     "exception": false,
     "start_time": "2023-07-18T08:32:27.014485",
     "status": "completed"
    },
    "tags": []
   },
   "source": []
  },
  {
   "cell_type": "code",
   "execution_count": null,
   "id": "49091d7c",
   "metadata": {
    "execution": {
     "iopub.execute_input": "2023-07-18T08:32:27.394139Z",
     "iopub.status.busy": "2023-07-18T08:32:27.392896Z",
     "iopub.status.idle": "2023-07-18T08:32:27.397278Z",
     "shell.execute_reply": "2023-07-18T08:32:27.397867Z",
     "shell.execute_reply.started": "2023-07-18T07:53:30.015911Z"
    },
    "papermill": {
     "duration": 0.135702,
     "end_time": "2023-07-18T08:32:27.398063",
     "exception": false,
     "start_time": "2023-07-18T08:32:27.262361",
     "status": "completed"
    },
    "tags": []
   },
   "outputs": [],
   "source": [
    "df_test1.head()"
   ]
  },
  {
   "cell_type": "markdown",
   "id": "54b099aa",
   "metadata": {
    "papermill": {
     "duration": 0.124673,
     "end_time": "2023-07-18T08:32:27.652471",
     "exception": false,
     "start_time": "2023-07-18T08:32:27.527798",
     "status": "completed"
    },
    "tags": []
   },
   "source": [
    "## Accurarcy"
   ]
  },
  {
   "cell_type": "markdown",
   "id": "8610d1b0",
   "metadata": {
    "papermill": {
     "duration": 0.121561,
     "end_time": "2023-07-18T08:32:27.899501",
     "exception": false,
     "start_time": "2023-07-18T08:32:27.777940",
     "status": "completed"
    },
    "tags": []
   },
   "source": [
    "### Test Accurarcy"
   ]
  },
  {
   "cell_type": "code",
   "execution_count": null,
   "id": "d2676d60",
   "metadata": {
    "execution": {
     "iopub.execute_input": "2023-07-18T08:32:28.159641Z",
     "iopub.status.busy": "2023-07-18T08:32:28.158737Z",
     "iopub.status.idle": "2023-07-18T08:32:28.162925Z",
     "shell.execute_reply": "2023-07-18T08:32:28.163446Z",
     "shell.execute_reply.started": "2023-07-18T07:53:30.033364Z"
    },
    "papermill": {
     "duration": 0.138789,
     "end_time": "2023-07-18T08:32:28.163628",
     "exception": false,
     "start_time": "2023-07-18T08:32:28.024839",
     "status": "completed"
    },
    "tags": []
   },
   "outputs": [],
   "source": [
    "form = df_test1.Check.value_counts()[1] / df_test1.Check.count()\n",
    "print('Accuracy is : {}'.format(form))"
   ]
  },
  {
   "cell_type": "markdown",
   "id": "2396199f",
   "metadata": {
    "papermill": {
     "duration": 0.120462,
     "end_time": "2023-07-18T08:32:28.410324",
     "exception": false,
     "start_time": "2023-07-18T08:32:28.289862",
     "status": "completed"
    },
    "tags": []
   },
   "source": [
    "### Confusion Matrix"
   ]
  },
  {
   "cell_type": "code",
   "execution_count": null,
   "id": "3d68cf69",
   "metadata": {
    "execution": {
     "iopub.execute_input": "2023-07-18T08:32:28.666372Z",
     "iopub.status.busy": "2023-07-18T08:32:28.665463Z",
     "iopub.status.idle": "2023-07-18T08:32:28.942666Z",
     "shell.execute_reply": "2023-07-18T08:32:28.943223Z",
     "shell.execute_reply.started": "2023-07-18T07:53:30.046197Z"
    },
    "papermill": {
     "duration": 0.408476,
     "end_time": "2023-07-18T08:32:28.943407",
     "exception": false,
     "start_time": "2023-07-18T08:32:28.534931",
     "status": "completed"
    },
    "tags": []
   },
   "outputs": [],
   "source": [
    "cm = tf.math.confusion_matrix(labels=df_test1['Actual1'].to_numpy(), predictions=df_test1['Pred1'].to_numpy()).numpy()\n",
    "ls = ['Non-Tumorous', 'Tumorous'] # your y labels()\n",
    "disp = ConfusionMatrixDisplay(confusion_matrix=cm, display_labels=ls)\n",
    "fig, ax = plt.subplots(figsize=(10,10))\n",
    "disp.plot(xticks_rotation=50, ax = ax)\n",
    "plt.show()"
   ]
  },
  {
   "cell_type": "markdown",
   "id": "33b967aa",
   "metadata": {
    "papermill": {
     "duration": 0.127955,
     "end_time": "2023-07-18T08:32:29.197024",
     "exception": false,
     "start_time": "2023-07-18T08:32:29.069069",
     "status": "completed"
    },
    "tags": []
   },
   "source": [
    "### Metrics"
   ]
  },
  {
   "cell_type": "code",
   "execution_count": null,
   "id": "7f66ba3a",
   "metadata": {
    "execution": {
     "iopub.execute_input": "2023-07-18T08:32:29.463283Z",
     "iopub.status.busy": "2023-07-18T08:32:29.462569Z",
     "iopub.status.idle": "2023-07-18T08:32:29.468687Z",
     "shell.execute_reply": "2023-07-18T08:32:29.468082Z",
     "shell.execute_reply.started": "2023-07-18T07:53:30.344556Z"
    },
    "papermill": {
     "duration": 0.138557,
     "end_time": "2023-07-18T08:32:29.468843",
     "exception": false,
     "start_time": "2023-07-18T08:32:29.330286",
     "status": "completed"
    },
    "tags": []
   },
   "outputs": [],
   "source": [
    "acc = (cm[0][0] + cm[1][1]) / (cm[0][0] + cm[0][1]+ cm[1][1] + cm[1][0])\n",
    "TPR =  (cm[1][1]) / (cm[1][1] + cm[1][0])\n",
    "FPR = (cm[0][1]) / (cm[0][1] + cm[0][0])\n",
    "print(\"ACC: {}\\nTPR: {}\\n FPR: {}\".format(acc,TPR,FPR))"
   ]
  },
  {
   "cell_type": "code",
   "execution_count": null,
   "id": "6b4463a1",
   "metadata": {
    "execution": {
     "iopub.execute_input": "2023-07-18T08:32:29.738485Z",
     "iopub.status.busy": "2023-07-18T08:32:29.737195Z",
     "iopub.status.idle": "2023-07-18T08:32:29.741529Z",
     "shell.execute_reply": "2023-07-18T08:32:29.742126Z",
     "shell.execute_reply.started": "2023-07-18T07:53:30.355272Z"
    },
    "papermill": {
     "duration": 0.147232,
     "end_time": "2023-07-18T08:32:29.742329",
     "exception": false,
     "start_time": "2023-07-18T08:32:29.595097",
     "status": "completed"
    },
    "tags": []
   },
   "outputs": [],
   "source": [
    "df_test1.head()"
   ]
  },
  {
   "cell_type": "code",
   "execution_count": null,
   "id": "4751e023",
   "metadata": {
    "execution": {
     "iopub.execute_input": "2023-07-18T08:32:30.006241Z",
     "iopub.status.busy": "2023-07-18T08:32:30.005265Z",
     "iopub.status.idle": "2023-07-18T08:32:30.035728Z",
     "shell.execute_reply": "2023-07-18T08:32:30.036291Z",
     "shell.execute_reply.started": "2023-07-18T07:53:30.374641Z"
    },
    "papermill": {
     "duration": 0.1609,
     "end_time": "2023-07-18T08:32:30.036475",
     "exception": false,
     "start_time": "2023-07-18T08:32:29.875575",
     "status": "completed"
    },
    "tags": []
   },
   "outputs": [],
   "source": [
    "df_test1[df_test1[\"Check\"] == 0][['Actual',\"Pred\"]].value_counts()"
   ]
  },
  {
   "cell_type": "code",
   "execution_count": null,
   "id": "c28bbaff",
   "metadata": {
    "execution": {
     "iopub.execute_input": "2023-07-18T08:32:30.304640Z",
     "iopub.status.busy": "2023-07-18T08:32:30.303652Z",
     "iopub.status.idle": "2023-07-18T08:32:30.323102Z",
     "shell.execute_reply": "2023-07-18T08:32:30.323740Z",
     "shell.execute_reply.started": "2023-07-18T08:04:01.206553Z"
    },
    "papermill": {
     "duration": 0.159122,
     "end_time": "2023-07-18T08:32:30.323930",
     "exception": false,
     "start_time": "2023-07-18T08:32:30.164808",
     "status": "completed"
    },
    "tags": []
   },
   "outputs": [],
   "source": [
    "df_test1"
   ]
  },
  {
   "cell_type": "code",
   "execution_count": null,
   "id": "cd3c4342",
   "metadata": {
    "execution": {
     "iopub.execute_input": "2023-07-18T08:32:30.594842Z",
     "iopub.status.busy": "2023-07-18T08:32:30.593789Z",
     "iopub.status.idle": "2023-07-18T08:32:30.596444Z",
     "shell.execute_reply": "2023-07-18T08:32:30.596904Z",
     "shell.execute_reply.started": "2023-07-18T08:14:03.869133Z"
    },
    "papermill": {
     "duration": 0.135742,
     "end_time": "2023-07-18T08:32:30.597081",
     "exception": false,
     "start_time": "2023-07-18T08:32:30.461339",
     "status": "completed"
    },
    "tags": []
   },
   "outputs": [],
   "source": [
    "df_test2= df_test1.head(10)"
   ]
  },
  {
   "cell_type": "code",
   "execution_count": null,
   "id": "4388c2ea",
   "metadata": {
    "execution": {
     "iopub.execute_input": "2023-07-18T08:32:30.854782Z",
     "iopub.status.busy": "2023-07-18T08:32:30.854055Z",
     "iopub.status.idle": "2023-07-18T08:32:30.858266Z",
     "shell.execute_reply": "2023-07-18T08:32:30.857621Z",
     "shell.execute_reply.started": "2023-07-18T08:14:06.813504Z"
    },
    "papermill": {
     "duration": 0.135499,
     "end_time": "2023-07-18T08:32:30.858406",
     "exception": false,
     "start_time": "2023-07-18T08:32:30.722907",
     "status": "completed"
    },
    "tags": []
   },
   "outputs": [],
   "source": [
    "df_test3= df_test1.tail(10)"
   ]
  },
  {
   "cell_type": "code",
   "execution_count": null,
   "id": "d4e6efef",
   "metadata": {
    "execution": {
     "iopub.execute_input": "2023-07-18T08:32:31.116618Z",
     "iopub.status.busy": "2023-07-18T08:32:31.115711Z",
     "iopub.status.idle": "2023-07-18T08:32:31.119273Z",
     "shell.execute_reply": "2023-07-18T08:32:31.118736Z",
     "shell.execute_reply.started": "2023-07-18T08:15:08.677043Z"
    },
    "papermill": {
     "duration": 0.137341,
     "end_time": "2023-07-18T08:32:31.119453",
     "exception": false,
     "start_time": "2023-07-18T08:32:30.982112",
     "status": "completed"
    },
    "tags": []
   },
   "outputs": [],
   "source": [
    "df_test4 = pd.concat([df_test2,df_test3])"
   ]
  },
  {
   "cell_type": "code",
   "execution_count": null,
   "id": "811d51d0",
   "metadata": {
    "execution": {
     "iopub.execute_input": "2023-07-18T08:32:31.396253Z",
     "iopub.status.busy": "2023-07-18T08:32:31.394987Z",
     "iopub.status.idle": "2023-07-18T08:32:31.399774Z",
     "shell.execute_reply": "2023-07-18T08:32:31.400392Z",
     "shell.execute_reply.started": "2023-07-18T08:15:17.262672Z"
    },
    "papermill": {
     "duration": 0.153781,
     "end_time": "2023-07-18T08:32:31.400580",
     "exception": false,
     "start_time": "2023-07-18T08:32:31.246799",
     "status": "completed"
    },
    "tags": []
   },
   "outputs": [],
   "source": [
    "df_test4"
   ]
  },
  {
   "cell_type": "code",
   "execution_count": null,
   "id": "e5c15858",
   "metadata": {
    "execution": {
     "iopub.execute_input": "2023-07-18T08:32:31.674641Z",
     "iopub.status.busy": "2023-07-18T08:32:31.673697Z",
     "iopub.status.idle": "2023-07-18T08:32:35.640661Z",
     "shell.execute_reply": "2023-07-18T08:32:35.640102Z",
     "shell.execute_reply.started": "2023-07-18T08:15:30.282177Z"
    },
    "papermill": {
     "duration": 4.104532,
     "end_time": "2023-07-18T08:32:35.640803",
     "exception": false,
     "start_time": "2023-07-18T08:32:31.536271",
     "status": "completed"
    },
    "tags": []
   },
   "outputs": [],
   "source": [
    "for a,b in df_test4.iterrows():\n",
    "    img_path = (b['local_path'])\n",
    "    im = imageio.imread(img_path)\n",
    "\n",
    "    print(\"Actual: {} \\nPrediction: {}\".format(b['Actual'], b['Pred']))\n",
    "    plt.imshow(im)\n",
    "    plt.show()\n",
    "    print('==============================================')"
   ]
  }
 ],
 "metadata": {
  "kernelspec": {
   "display_name": "Python 3",
   "language": "python",
   "name": "python3"
  },
  "language_info": {
   "codemirror_mode": {
    "name": "ipython",
    "version": 3
   },
   "file_extension": ".py",
   "mimetype": "text/x-python",
   "name": "python",
   "nbconvert_exporter": "python",
   "pygments_lexer": "ipython3",
   "version": "3.9.18"
  },
  "papermill": {
   "default_parameters": {},
   "duration": 129.918354,
   "end_time": "2023-07-18T08:32:39.263257",
   "environment_variables": {},
   "exception": null,
   "input_path": "__notebook__.ipynb",
   "output_path": "__notebook__.ipynb",
   "parameters": {},
   "start_time": "2023-07-18T08:30:29.344903",
   "version": "2.3.3"
  }
 },
 "nbformat": 4,
 "nbformat_minor": 5
}
